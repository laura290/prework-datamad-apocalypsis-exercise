{
 "cells": [
  {
   "cell_type": "markdown",
   "metadata": {},
   "source": [
    "# Apocalipsis zombie\n",
    "\n",
    "![](./images/thewalkingdead.jpeg)\n",
    "\n",
    "Cargas un arsenal de armas y una mochila con cargadores de munición de tamaño variable para algunos tipos de armas. ¿Cuántos zombies puedes matar antes de tener que echar a correr por tu vida? Deberás imprimir el resultado de cada caso que corresponde al número de balas que tienes de las armas que cargas.  \n",
    "\n",
    "ALGORITMO: Por cada arma diferente que cargas, tienes que comprobar si portas cargadores para ella. Si esto es afirmativo deberás sumar el total de balas que podrás disparar. "
   ]
  },
  {
   "cell_type": "markdown",
   "metadata": {},
   "source": [
    "## Caso 0: Ejemplo simple"
   ]
  },
  {
   "cell_type": "code",
   "execution_count": 2,
   "metadata": {},
   "outputs": [
    {
     "name": "stdout",
     "output_type": "stream",
     "text": [
      "[10, 10, 2, 2, 2, 2, 2]\n"
     ]
    },
    {
     "data": {
      "text/plain": [
       "30"
      ]
     },
     "execution_count": 2,
     "metadata": {},
     "output_type": "execute_result"
    }
   ],
   "source": [
    "armas = ['pistola','escopeta']\n",
    "cargadores = {'pistola': [10, 10], 'escopeta': [2, 2, 2, 2, 2]}\n",
    "cargadores.values()\n",
    "cargadores_2 = []\n",
    "for i in cargadores.values():\n",
    "    cargadores_2.append(i)\n",
    "cargadores_2 = [[10, 10], [2, 2, 2, 2, 2]]\n",
    "balas = []\n",
    "for each_list in cargadores_2:\n",
    "    for element in each_list:\n",
    "        balas.append(element)\n",
    "print(balas)\n",
    "sum(balas)\n"
   ]
  },
  {
   "cell_type": "markdown",
   "metadata": {},
   "source": [
    "**Output esperado** -> 30"
   ]
  },
  {
   "cell_type": "markdown",
   "metadata": {},
   "source": [
    "## Caso 1: Mismas armas que municiones"
   ]
  },
  {
   "cell_type": "code",
   "execution_count": 3,
   "metadata": {},
   "outputs": [
    {
     "name": "stdout",
     "output_type": "stream",
     "text": [
      "[12, 13, 4, 5, 20, 17, 33, 40, 2, 2, 2, 1, 1, 2, 4]\n"
     ]
    },
    {
     "data": {
      "text/plain": [
       "158"
      ]
     },
     "execution_count": 3,
     "metadata": {},
     "output_type": "execute_result"
    }
   ],
   "source": [
    "armas = ['pistola', 'ametralladora', 'escopeta', 'fusil de francotirador']\n",
    "cargadores = {'pistola': [12, 13, 4, 5, 20, 17], 'ametralladora': [33, 40], 'escopeta': [2, 2, 2, 1], 'fusil de francotirador': [1, 2, 4]}\n",
    "cargadores.values()\n",
    "cargadores_3 = []\n",
    "for i in cargadores.values():\n",
    "    cargadores_3.append(i)\n",
    "balas_2 = []\n",
    "for each_list in cargadores_3:\n",
    "    for element in each_list:\n",
    "        balas_2.append(element)\n",
    "print(balas_2)\n",
    "sum(balas_2)"
   ]
  },
  {
   "cell_type": "markdown",
   "metadata": {},
   "source": [
    "## Caso 2: Más tipos de munición que armas"
   ]
  },
  {
   "cell_type": "code",
   "execution_count": 2,
   "metadata": {},
   "outputs": [
    {
     "name": "stdout",
     "output_type": "stream",
     "text": [
      "[12, 13, 4, 5, 20, 17, 33, 40, 2, 2, 2, 1, 1, 2, 4]\n"
     ]
    },
    {
     "data": {
      "text/plain": [
       "158"
      ]
     },
     "execution_count": 2,
     "metadata": {},
     "output_type": "execute_result"
    }
   ],
   "source": [
    "armas = ['pistola', 'ametralladora', 'escopeta', 'fusil de francotirador']\n",
    "cargadores = {'pistola': [12, 13, 4, 5, 20, 17], 'ametralladora': [33, 40], 'escopeta': [2, 2, 2, 1], 'fusil de francotirador': [1, 2, 4], \n",
    "'bazoka': [1, 1]} \n",
    "cargador = cargadores.pop('bazoka') \n",
    "cargadores\n",
    "cargadores.values()\n",
    "cargadores_3 = []\n",
    "for i in cargadores.values():\n",
    "    cargadores_3.append(i)\n",
    "balas_2 = []\n",
    "for each_list in cargadores_3:\n",
    "    for element in each_list:\n",
    "        balas_2.append(element)\n",
    "print(balas_2)\n",
    "sum(balas_2)"
   ]
  },
  {
   "cell_type": "markdown",
   "metadata": {},
   "source": [
    "## Caso 3: Más armas que tipos de munición"
   ]
  },
  {
   "cell_type": "code",
   "execution_count": 3,
   "metadata": {},
   "outputs": [
    {
     "name": "stdout",
     "output_type": "stream",
     "text": [
      "[12, 13, 4, 5, 20, 17, 33, 40, 2, 2, 2, 1]\n"
     ]
    },
    {
     "data": {
      "text/plain": [
       "151"
      ]
     },
     "execution_count": 3,
     "metadata": {},
     "output_type": "execute_result"
    }
   ],
   "source": [
    "armas = ['pistola', 'ametralladora', 'escopeta', 'fusil de francotirador']\n",
    "cargadores = {'pistola': [12, 13, 4, 5, 20, 17], 'ametralladora': [33, 40], 'escopeta': [2, 2, 2, 1]}\n",
    "armas = ['pistola', 'ametralladora', 'escopeta', 'fusil de francotirador']\n",
    "cargadores = {'pistola': [12, 13, 4, 5, 20, 17], 'ametralladora': [33, 40], 'escopeta': [2, 2, 2, 1]}\n",
    "dic = dict.fromkeys(['pistola','ametralladora','escopeta','fusil de francotirador'],0)\n",
    "dic.update(cargadores)\n",
    "cargadores.values()\n",
    "cargadores_3 = []\n",
    "for i in cargadores.values():\n",
    "    cargadores_3.append(i)\n",
    "balas_2 = []\n",
    "for each_list in cargadores_3:\n",
    "    for element in each_list:\n",
    "        balas_2.append(element)\n",
    "print(balas_2)\n",
    "sum(balas_2)\n"
   ]
  },
  {
   "cell_type": "code",
   "execution_count": null,
   "metadata": {},
   "outputs": [],
   "source": []
  }
 ],
 "metadata": {
  "kernelspec": {
   "display_name": "Python 3",
   "language": "python",
   "name": "python3"
  },
  "language_info": {
   "codemirror_mode": {
    "name": "ipython",
    "version": 3
   },
   "file_extension": ".py",
   "mimetype": "text/x-python",
   "name": "python",
   "nbconvert_exporter": "python",
   "pygments_lexer": "ipython3",
   "version": "3.7.6"
  }
 },
 "nbformat": 4,
 "nbformat_minor": 2
}
